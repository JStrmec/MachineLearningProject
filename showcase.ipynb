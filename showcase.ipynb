{
 "cells": [
  {
   "cell_type": "code",
   "execution_count": 1,
   "metadata": {},
   "outputs": [],
   "source": [
    "# imports\n",
    "import keras\n",
    "import torch_cnn as tcnn\n",
    "import data_processing as d\n",
    "from tensorflow import keras\n",
    "from keras_cnn import keras_CNN as kcnn\n",
    "from sklearn.metrics import accuracy_score\n",
    "from sklearn.pipeline import make_pipeline\n",
    "from sklearn.preprocessing import StandardScaler\n",
    "from sklearn.model_selection import train_test_split   "
   ]
  },
  {
   "cell_type": "code",
   "execution_count": 2,
   "metadata": {},
   "outputs": [],
   "source": [
    "# Data retieval\n",
    "X, y = d.get_encoded_data()\n",
    "\n",
    "# Keras CNN Data\n",
    "X_train, X_test, y_train, y_test = d.splitData(X, y)\n",
    "\n",
    "# Change Y data for SVM\n",
    "svm_X_train, svm_X_test, svm_y_train, svm_y_test =  train_test_split(X, d.get_SVM_y(), test_size=0.33, random_state=1)"
   ]
  },
  {
   "cell_type": "code",
   "execution_count": 3,
   "metadata": {},
   "outputs": [
    {
     "name": "stdout",
     "output_type": "stream",
     "text": [
      "Trojan 6153 62.82 %\n",
      "Virus 2367 24.17 %\n",
      "Backdoor 447 4.56 %\n",
      "Worms 441 4.50 %\n",
      "Adware 222 2.27 %\n",
      "Agent 102 1.04 %\n",
      "Downloader 31 0.32 %\n",
      "Spyware 11 0.11 %\n",
      "Ransomware 10 0.10 %\n",
      "Dropper 4 0.04 %\n",
      "Riskware 4 0.04 %\n",
      "Crypt 2 0.02 %\n",
      "Keylogger 1 0.01 %\n"
     ]
    }
   ],
   "source": [
    "d.dataDistribution()"
   ]
  },
  {
   "cell_type": "code",
   "execution_count": 4,
   "metadata": {},
   "outputs": [],
   "source": [
    "# Variables\n",
    "EPOCHS = 10 # arbitrary\n",
    "\n",
    "# Keras CNN\n",
    "KERNEL_SIZE = 3\n",
    "FILTERS = 128\n",
    "DROPOUT_RATE = 0.25\n",
    "\n",
    "# Torch CNN\n",
    "N_FEATURES = X_train.shape[1] # Number of features for the input layer\n",
    "NUM_ROWS_TRAINING = X_train.shape[0] # Number of rows\n",
    "N_HIDDEN = N_FEATURES * 10 # Size of first linear layer\n",
    "N_CNN_KERNEL, MAX_POOL_KERNEL = 3, 4 # CNN kernel size"
   ]
  },
  {
   "cell_type": "code",
   "execution_count": 5,
   "metadata": {},
   "outputs": [
    {
     "name": "stdout",
     "output_type": "stream",
     "text": [
      "test acc: 0.9686028257456829\n",
      "test acc: 0.9708791208791209\n",
      "test acc: 0.9687598116169545\n",
      "test acc: 0.9409733124018839\n",
      "WARNING:tensorflow:5 out of the last 5 calls to <function Model.make_predict_function.<locals>.predict_function at 0x7faee07324c0> triggered tf.function retracing. Tracing is expensive and the excessive number of tracings could be due to (1) creating @tf.function repeatedly in a loop, (2) passing tensors with different shapes, (3) passing Python objects instead of tensors. For (1), please define your @tf.function outside of the loop. For (2), @tf.function has experimental_relax_shapes=True option that relaxes argument shapes that can avoid unnecessary retracing. For (3), please refer to https://www.tensorflow.org/guide/function#controlling_retracing and https://www.tensorflow.org/api_docs/python/tf/function for  more details.\n",
      "test acc: 0.9690737833594977\n",
      "WARNING:tensorflow:6 out of the last 6 calls to <function Model.make_predict_function.<locals>.predict_function at 0x7faec95341f0> triggered tf.function retracing. Tracing is expensive and the excessive number of tracings could be due to (1) creating @tf.function repeatedly in a loop, (2) passing tensors with different shapes, (3) passing Python objects instead of tensors. For (1), please define your @tf.function outside of the loop. For (2), @tf.function has experimental_relax_shapes=True option that relaxes argument shapes that can avoid unnecessary retracing. For (3), please refer to https://www.tensorflow.org/guide/function#controlling_retracing and https://www.tensorflow.org/api_docs/python/tf/function for  more details.\n",
      "test acc: 0.968916797488226\n",
      "test acc: 0.9675039246467818\n",
      "test acc: 0.9682888540031397\n",
      "test acc: 0.9409733124018839\n",
      "test acc: 0.9685243328100471\n"
     ]
    },
    {
     "data": {
      "image/png": "[encoded data removed]",
      "text/plain": [
       "<Figure size 432x288 with 1 Axes>"
      ]
     },
     "metadata": {
      "needs_background": "light"
     },
     "output_type": "display_data"
    }
   ],
   "source": [
    "# Keras CNN\n",
    "accuracy=[]\n",
    "#Build Model\n",
    "for x in range(0,EPOCHS):\n",
    "    cnn1D = kcnn(7, 500)\n",
    "    new_X_train, new_X_test, new_y_train, new_y_test = cnn1D.reshape_and_chng_type(X_train, X_test, y_train, y_test)\n",
    "    model = cnn1D.getModel()\n",
    "    optimizer = keras.optimizers.Nadam(learning_rate=1e-3, decay=5e-4)\n",
    "\n",
    "    model.compile(optimizer, 'mse', metrics=[keras.metrics.Accuracy()])\n",
    "\n",
    "    history = model.fit(\n",
    "        new_X_train,\n",
    "        new_y_train,\n",
    "        batch_size=256,\n",
    "        verbose=0,\n",
    "        epochs=150\n",
    "    )\n",
    "\n",
    "    # for metric in history.history:\n",
    "    #     cnn1D.plot(history.history, EPOCHS, metric)\n",
    "    #print(\"Evaluate on test data\")\n",
    "    results = model.predict(new_X_test, batch_size=256)\n",
    "    results = results.reshape(results.shape[1], results.shape[2]).astype(int)\n",
    "\n",
    "    count, failures, successes = 0, 0, 0\n",
    "\n",
    "    for i in range(len(results)):\n",
    "        for j in range(len(results[i])):\n",
    "            count += 1\n",
    "            if results[i][j] == int(y_test[i][j]):\n",
    "                successes += 1\n",
    "    accuracy.append(successes/count)\n",
    "    print(\"test acc:\", float(successes) / count)\n",
    "res = {'Accuracy':accuracy}\n",
    "d.plot(res, 10, \"Accuracy\")"
   ]
  },
  {
   "cell_type": "code",
   "execution_count": 6,
   "metadata": {},
   "outputs": [],
   "source": [
    "import torch_cnn as tcnn\n",
    "### Torch CNN\n",
    "# Build CNN\n",
    "net = tcnn.CNN(n_feature=N_FEATURES, n_hidden=N_HIDDEN, n_output=13, n_cnn_kernel=N_CNN_KERNEL)   # define the network    \n",
    "# Train and Test\n",
    "train_results, results = tcnn.trainTestCNN(net,X,y,EPOCHS)\n",
    "# Plotting\n",
    "d.plot(results, len(results[\"Accuracy\"]), \"Accuracy\")\n",
    "   "
   ]
  },
  {
   "cell_type": "code",
   "execution_count": null,
   "metadata": {},
   "outputs": [],
   "source": [
    "# SVM\n",
    "from sklearn.svm import SVC\n",
    "clf = make_pipeline(StandardScaler(), SVC(gamma='auto', kernel='rbf'))\n",
    "accuracy = []\n",
    "# Train and Test\n",
    "for x in range(0,EPOCHS):\n",
    "    clf.fit(svm_X_train,  svm_y_train)\n",
    "    predictions=clf.predict(svm_X_test)\n",
    "    accuracy.append(accuracy_score(svm_y_test, predictions))\n",
    "# Plotting        \n",
    "results = {'Accuracy':accuracy}\n",
    "d.plot(results, 10, 'Accuracy')       "
   ]
  },
  {
   "cell_type": "code",
   "execution_count": null,
   "metadata": {},
   "outputs": [],
   "source": []
  }
 ],
 "metadata": {
  "interpreter": {
   "hash": "7812ea015bdcee6f23a998adcdd2ef97c151c0c241b7b7070987d9313e41299d"
  },
  "kernelspec": {
   "display_name": "Python 3.9.6 64-bit",
   "language": "python",
   "name": "python3"
  },
  "language_info": {
   "codemirror_mode": {
    "name": "ipython",
    "version": 3
   },
   "file_extension": ".py",
   "mimetype": "text/x-python",
   "name": "python",
   "nbconvert_exporter": "python",
   "pygments_lexer": "ipython3",
   "version": "3.9.6"
  },
  "orig_nbformat": 4
 },
 "nbformat": 4,
 "nbformat_minor": 2
}
