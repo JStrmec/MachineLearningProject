{
 "cells": [
  {
   "cell_type": "code",
   "execution_count": null,
   "metadata": {},
   "outputs": [],
   "source": [
    "# imports\n",
    "import keras\n",
    "import pandas as pd\n",
    "import torch_cnn as tcnn\n",
    "import keras_cnn as kcnn\n",
    "import data_processing as d\n",
    "from tensorflow import keras\n",
    "from sklearn.utils import shuffle\n",
    "from sklearn.metrics import accuracy_score\n",
    "from sklearn.pipeline import make_pipeline\n",
    "from sklearn.preprocessing import StandardScaler\n",
    "from sklearn.model_selection import train_test_split   "
   ]
  },
  {
   "cell_type": "code",
   "execution_count": null,
   "metadata": {},
   "outputs": [],
   "source": [
    "# Data retieval\n",
    "X, y = d.get_encoded_data()\n",
    "\n",
    "# Keras CNN Data\n",
    "X_train, X_test, y_train, y_test = d.splitData(X, y)\n",
    "\n",
    "# Convert data to Tensors to Incease Computation time for Torch CNN\n",
    "X_tensor_train,Y_tensor_train  = d.toTensors(X, y)\n",
    "\n",
    "# Change Y data for SVM\n",
    "svm_X_train, svm_X_test, svm_y_train, svm_y_test =  train_test_split(X, d.get_SVM_y(), test_size=0.33, random_state=1)"
   ]
  },
  {
   "cell_type": "code",
   "execution_count": null,
   "metadata": {},
   "outputs": [],
   "source": [
    "# Variables\n",
    "\n",
    "EPOCHS = 1000 # arbitrary\n",
    "\n",
    "# Keras CNN\n",
    "LAYERS = 52 # arbitrary number for now\n",
    "\n",
    "# Torch CNN\n",
    "N_FEATURES = X_train.shape[1] # Number of features for the input layer\n",
    "NUM_ROWS_TRAINING = X_train.shape[0] # Number of rows\n",
    "N_HIDDEN = N_FEATURES * 10 # Size of first linear layer\n",
    "N_CNN_KERNEL, MAX_POOL_KERNEL = 3, 4 # CNN kernel size"
   ]
  },
  {
   "cell_type": "code",
   "execution_count": null,
   "metadata": {},
   "outputs": [],
   "source": [
    "# Keras CNN\n",
    "#Build Model\n",
    "model = kcnn.getModel()\n",
    "optimizer = keras.optimizers.Adam(learning_rate=0.001)\n",
    "model.compile(optimizer, 'mse', metrics=[keras.metrics.Accuracy(), \n",
    "                                                keras.metrics.MeanSquaredError(),\n",
    "                                                keras.metrics.Precision(), \n",
    "                                                keras.metrics.Recall(),\n",
    "                                                keras.metrics.RootMeanSquaredError()])\n",
    "# Training    \n",
    "history = model.fit(X_train,y_train, batch_size=64,epochs=EPOCHS)\n",
    "# Plotting    \n",
    "for metric in history:\n",
    "    kcnn.plot(history, EPOCHS, metric, \"Training\")\n",
    "# Testing    \n",
    "print(\"Evaluate on test data\")\n",
    "results = model.evaluate(X_test, y_test, batch_size=128)\n",
    "print(\"test loss, test acc:\", results)\n",
    "# Plotting    \n",
    "for metric in results:\n",
    "    kcnn.plot(results, EPOCHS, metric, \"Testing\")"
   ]
  },
  {
   "cell_type": "code",
   "execution_count": null,
   "metadata": {},
   "outputs": [],
   "source": [
    "### Torch CNN\n",
    "# Build CNN\n",
    "net = tcnn.CNN(n_feature=N_FEATURES, n_hidden=N_HIDDEN, n_output=13, n_cnn_kernel=N_CNN_KERNEL)   # define the network    \n",
    "# Train and Test\n",
    "train_results, results = tcnn.trainTestCNN(net,X_tensor_train,Y_tensor_train)\n",
    "# Plotting\n",
    "for metric in train_results:\n",
    "    kcnn.plot(train_results, EPOCHS, metric, \"Training\")\n",
    "for metric in results:\n",
    "    kcnn.plot(results, EPOCHS/100, metric, \"Testing\")"
   ]
  },
  {
   "cell_type": "code",
   "execution_count": null,
   "metadata": {},
   "outputs": [],
   "source": [
    "# SVM\n",
    "from sklearn.svm import SVC\n",
    "clf = make_pipeline(StandardScaler(), SVC(gamma='auto'))\n",
    "accuracy = []\n",
    "# Train and Test\n",
    "for x in range(0,EPOCHS):\n",
    "    clf.fit(svm_X_train,  svm_y_train)\n",
    "    if x % 100 == 0:\n",
    "        predictions=clf.predict(svm_X_test)\n",
    "        accuracy.append(accuracy_score(svm_y_test, predictions))\n",
    "# Plotting        \n",
    "results = {'Accuracy':accuracy}\n",
    "for metric in results:\n",
    "    kcnn.plot(results, EPOCHS/100, metric, \"Testing\")        "
   ]
  },
  {
   "cell_type": "code",
   "execution_count": null,
   "metadata": {},
   "outputs": [],
   "source": [
    "df = pd.read_csv('datasets/VirusSample.csv')\n",
    "df = df.drop(columns=['file'])\n",
    "pd.set_option('max_colwidth', 150)\n",
    "shuffle(df).head(20)"
   ]
  },
  {
   "cell_type": "code",
   "execution_count": null,
   "metadata": {},
   "outputs": [],
   "source": []
  }
 ],
 "metadata": {
  "interpreter": {
   "hash": "7812ea015bdcee6f23a998adcdd2ef97c151c0c241b7b7070987d9313e41299d"
  },
  "kernelspec": {
   "display_name": "Python 3.9.6 64-bit",
   "language": "python",
   "name": "python3"
  },
  "language_info": {
   "codemirror_mode": {
    "name": "ipython",
    "version": 3
   },
   "file_extension": ".py",
   "mimetype": "text/x-python",
   "name": "python",
   "nbconvert_exporter": "python",
   "pygments_lexer": "ipython3",
   "version": "3.9.6"
  },
  "orig_nbformat": 4
 },
 "nbformat": 4,
 "nbformat_minor": 2
}
